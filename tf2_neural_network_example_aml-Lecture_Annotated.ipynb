{
 "cells": [
  {
   "cell_type": "markdown",
   "metadata": {},
   "source": [
    "A neural network example from Coding the Deep Learning Revolution V2 from Adventures in Machine Leanring pg 14 -21"
   ]
  },
  {
   "cell_type": "code",
   "execution_count": 19,
   "metadata": {},
   "outputs": [],
   "source": [
    "import tensorflow as tf\n",
    "import numpy as np"
   ]
  },
  {
   "cell_type": "code",
   "execution_count": 5,
   "metadata": {},
   "outputs": [],
   "source": [
    "from tensorflow.keras.datasets import mnist\n",
    "(x_train, y_train), (x_test, y_test) = mnist.load_data()\n",
    "\n",
    "# LN\n",
    "# the data made of arrays is imported as a tuple\n",
    "# The dataset is two categories that can be further subdivided into 2 categories - hence the pair of tuples\n",
    "# x_train is a list [a1, ... a60000] # a is an image\n",
    "# ai = [r1, .., r28]\n",
    "# ri = [pixel1,..., pixel28]"
   ]
  },
  {
   "cell_type": "code",
   "execution_count": 9,
   "metadata": {},
   "outputs": [],
   "source": [
    "epochs = 10\n",
    "batch_size = 100\n",
    "# LN\n",
    "# 600 batches \n",
    "# are weight are going to be updated 6000 times. 600 batches * 10 epochs\n",
    "\n",
    "\n",
    "# Normalize the input images by dividing by 255 (scales the data so its between 0 and 1). Note: 255 is the max of the x values (my observation))\n",
    "x_train = x_train / 255.0\n",
    "x_test = x_test / 255.0\n",
    "#LN this goes inside all the nested lists and divides the number by 255"
   ]
  },
  {
   "cell_type": "code",
   "execution_count": 10,
   "metadata": {},
   "outputs": [],
   "source": [
    "# convert x_test to tensor to pass through model (train data will be converted to tensors on the fly)\n",
    "x_test = tf.Variable(x_test)"
   ]
  },
  {
   "cell_type": "code",
   "execution_count": 37,
   "metadata": {},
   "outputs": [],
   "source": [
    "# The next step is to setup the weight and bias variables for the three-layer neural network.\n",
    "# There are always L - 1 number of weights/bias tensors, where L is the number of layers.\n",
    "# These variables are defined in the code below:"
   ]
  },
  {
   "cell_type": "code",
   "execution_count": 11,
   "metadata": {},
   "outputs": [],
   "source": [
    "# now declare the weights connecting the input to the hidden layer\n",
    "W1 = tf.Variable(tf.random.normal([784,300], stddev=0.03), name='W1')\n",
    "b1 = tf.Variable(tf.random.normal([300]), name='b1')\n",
    "# and the weights connecting the hidden layer to the output layer\n",
    "W2 = tf.Variable(tf.random.normal([300,10], stddev=0.03), name='W2')\n",
    "b2 = tf.Variable(tf.random.normal([10]), name='b2')\n",
    "\n",
    "# LN\n",
    "# W1 line creates a matrix 784x300 and fully connects - first layer of the nn is 784 and hidden layer is 300\n",
    "# b1 is being initalized with 1 dimension (1x300) - bias is fed int each node in the hidden layer \n",
    "# . . . . so it needs to be 300 in this case\n",
    "# W2 goes from the hidden layer of 300 to the output layer of 10\n",
    "# This configures a fully connected nn"
   ]
  },
  {
   "cell_type": "code",
   "execution_count": 39,
   "metadata": {},
   "outputs": [],
   "source": [
    "# The standard devatiion is for the normal distribution of random numbers drawn\n",
    "# The 300 in W1 is the number of nodes in the hidden layer\n",
    "# The [300,10] tensor in W2 \n",
    "# The W2 variable is a [300, 10] tensor, connecting the 300-node hidden layer to the 10-node output layer."
   ]
  },
  {
   "cell_type": "code",
   "execution_count": 40,
   "metadata": {},
   "outputs": [],
   "source": [
    "# The next step in the code is to create the computations that occur within the nodes of the network.\n",
    "# If the reader recalls, the computations within the nodes of a neural network are of the following form:\n",
    "# z = Wx + b\n",
    "# h = f(z)\n",
    "# Where W is the weights matrix, x is the layer input vector, b is the bias and f is the activation\n",
    "# function of the node. These calculations comprise the feed-forward pass of the input data\n",
    "# through the neural network. To execute these calculations, a dedicated feed forward function\n",
    "# is created:"
   ]
  },
  {
   "cell_type": "code",
   "execution_count": 21,
   "metadata": {},
   "outputs": [],
   "source": [
    "def nn_model(x_input, W1, b1, W2, b2):\n",
    "    # flatten the input image from 28 x 28 to 784\n",
    "    x_input = tf.reshape(x_input, (x_input.shape[0], -1))\n",
    "    x = tf.add(tf.matmul(tf.cast(x_input,tf.float32), W1), b1)\n",
    "    x = tf.nn.relu(x)\n",
    "    logits = tf.add(tf.matmul(x,W2), b2)\n",
    "    return logits\n",
    "# Note that no activation function has been applied to this output layer of nodes (yet). \n",
    "# In machine/deep learning, the term “logits” refers to the un-activated output of a layer of nodes.\n",
    "\n",
    "# LN\n",
    "# This fucntion produces y-bar, the nn's prediction before the output layer is activated\n",
    "\n",
    "# x_input = tf.reshape(x_input, (x_input.shape[0], -1)) Explained\n",
    "# x-input is a list of size 100\n",
    "# tf.reshape(tensor, shape, name=None) - \n",
    "# if you have t = \n",
    "# [[1,2,3],\n",
    "#  [4,5,6]] \n",
    "# and do t.reshape[3,2] and get:\n",
    "# [[1,2],\n",
    "#  [3,4],\n",
    "#  [5,6]]\n",
    "# x_input = tf.reshape(x_input, (x_input.shape[0], -1)) \n",
    "#.shape returns a 1d tensor representing the shape of the input ex:[28, 28]\n",
    "# x_input.shape = [100,28,28] so x_input.shape[0] = 100 #literall gives the shape 100 x 28 x28\n",
    "# tf.reshape(x_input[100,-1]) - negative one is 784 - negative one always converts the number that fits so\n",
    "# x input is a list of size 100(100nlists) each one sized 784)\n",
    "# https://www.tensorflow.org/api_docs/python/tf/reshape\n",
    "# https://www.tensorflow.org/api_docs/python/tf/shape\n",
    "\n",
    "# x = tf.add(tf.matmul(tf.cast(x_input,tf.float32), W1), b1) - Explained\n",
    "# tf.cast(x_input, tf.float32) - x-input comes in as 64 bit this converts to 32 bit (tensorflow only works on 32 bit)\n",
    "# then matrix multiplication matmult multiples x-input * W1 then adds the result to b1\n",
    "\n",
    "# x_inputT (dim:100x784) * W (dim: 784 x 300) + b1 (dim: 1 x 300) = dim: 100 x 300 \n",
    "\n",
    "# x = tf.nn.relu(x) = puts x through reul activation function\n",
    "\n",
    "# logits = tf.add(tf.matmul(x,W2), b2) \n",
    "# x (dim: 100 x 300) * W2 (dim: 300 x 10) + b2 (dim: 1 x 10) = result dim (100 x 10)\n",
    "\n",
    "# This takes 100 images at once and computing their unactivated outputs at once\n",
    "\n"
   ]
  },
  {
   "cell_type": "code",
   "execution_count": 22,
   "metadata": {},
   "outputs": [],
   "source": [
    "def get_batch(x_data, y_data, batch_size):\n",
    "    idxs = np.random.randint(0, len(y_data), batch_size) #list of len 100\n",
    "    return x_data[idxs,:,:], y_data[idxs]\n",
    "\n",
    "# LN\n",
    "# randint(lower, upper, size) ex: randint(1,6,4) generates 4 random numbers between 1 and 6\n",
    "# x_data is a Numpy array dim(60,000 x 784)\n",
    "# len(y_data) = 60,000 and y_data dim(100 x 1)\n",
    "# idxs is a list of len 100\n",
    "# x_data[idxs,:,:] - length of list 100 tuples 100 x 2 \n",
    "# result - creating tuples of each x-values and labels (y_data is the labels)"
   ]
  },
  {
   "cell_type": "code",
   "execution_count": 23,
   "metadata": {},
   "outputs": [],
   "source": [
    "def loss_fn(logits, labels):\n",
    "    cross_entropy = tf.reduce_mean(tf.nn.softmax_cross_entropy_with_logits(labels=labels, logits=logits))\n",
    "    return cross_entropy\n",
    "\n",
    "# LN\n",
    "#cross entropy can be replaced with Euclidean Distance"
   ]
  },
  {
   "cell_type": "code",
   "execution_count": 24,
   "metadata": {},
   "outputs": [],
   "source": [
    "# setup the optimizer\n",
    "optimizer = tf.keras.optimizers.Adam()\n",
    "# The Adam object can take a learning rate as input, but for the present purposes, the default value is used.\n",
    "# LN\n",
    "# does the gradient descent\n",
    "# Adam - adptive learning rate optimizer - uses stochastic gradient descent"
   ]
  },
  {
   "cell_type": "code",
   "execution_count": 25,
   "metadata": {},
   "outputs": [
    {
     "name": "stdout",
     "output_type": "stream",
     "text": [
      "Epoch: 1, loss=2.067, test set accuracy=59.000%\n",
      "Epoch: 2, loss=1.151, test set accuracy=79.700%\n",
      "Epoch: 3, loss=0.720, test set accuracy=85.400%\n",
      "Epoch: 4, loss=0.544, test set accuracy=87.670%\n",
      "Epoch: 5, loss=0.456, test set accuracy=89.000%\n",
      "Epoch: 6, loss=0.412, test set accuracy=89.390%\n",
      "Epoch: 7, loss=0.377, test set accuracy=90.140%\n",
      "Epoch: 8, loss=0.356, test set accuracy=90.470%\n",
      "Epoch: 9, loss=0.341, test set accuracy=90.680%\n",
      "Epoch: 10, loss=0.332, test set accuracy=90.920%\n",
      "\n",
      " Training Complete!\n"
     ]
    }
   ],
   "source": [
    "# The Training Loop\n",
    "total_batch = int(len(y_train)/batch_size) #int should not be needed because your data should divide evenly by batch #\n",
    "\n",
    "for epoch in range(epochs):\n",
    "    avg_loss = 0\n",
    "    for i in range(total_batch):\n",
    "        batch_x, batch_y = get_batch(x_train, y_train, batch_size=batch_size)\n",
    "        # coverts batch_x, batch_y to tensors\n",
    "        batch_x = tf.Variable(batch_x)\n",
    "        batch_y = tf.Variable(batch_y)\n",
    "        # Create a one hot vector\n",
    "        batch_y = tf.one_hot(batch_y,10) # categorical data want one to be 1 and all the rest are 0\n",
    "        #think softmax for labeled data\n",
    "        with tf.GradientTape() as tape: #code in here is dealing with an output. it creates the gradient surface\n",
    "            logits = nn_model(batch_x, W1, b1, W2, b2)\n",
    "            loss = loss_fn(logits, batch_y)\n",
    "        #the next 2 lines are doing gradient descent\n",
    "        #take in a loss with all the factors that contribute to the loss and optimize it \n",
    "        gradients = tape.gradient(loss, [W1, b1, W2, b2]) #figure out what weights will reduce loss\n",
    "        optimizer.apply_gradients(zip(gradients, [W1, b1,W2,b2])) #update those weights\n",
    "        avg_loss += loss / total_batch #how much loss is being contributed by each batch\n",
    "    test_logits = nn_model(x_test, W1, b1, W2, b2) # unactivated result that is not through softmax\n",
    "    max_idxs = tf.argmax(test_logits, axis=1) # essentially doing the softmax (softmax is for learning)\n",
    "    test_acc = np.sum(max_idxs.numpy() == y_test)/len(y_test) #computes the accuracy\n",
    "    #finds the maximum compares array of nine 0's and a 1 to the tst array of the same and if it matches its added\n",
    "    print(f\"Epoch: {epoch + 1}, loss={avg_loss:.3f}, test set accuracy={test_acc*100:.3f}%\")\n",
    "\n",
    "print(\"\\n Training Complete!\")\n",
    "    "
   ]
  },
  {
   "cell_type": "code",
   "execution_count": null,
   "metadata": {},
   "outputs": [],
   "source": []
  }
 ],
 "metadata": {
  "kernelspec": {
   "display_name": "Python 3",
   "language": "python",
   "name": "python3"
  },
  "language_info": {
   "codemirror_mode": {
    "name": "ipython",
    "version": 3
   },
   "file_extension": ".py",
   "mimetype": "text/x-python",
   "name": "python",
   "nbconvert_exporter": "python",
   "pygments_lexer": "ipython3",
   "version": "3.6.9"
  }
 },
 "nbformat": 4,
 "nbformat_minor": 4
}
