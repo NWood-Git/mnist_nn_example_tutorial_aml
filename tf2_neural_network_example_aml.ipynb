{
 "cells": [
  {
   "cell_type": "markdown",
   "metadata": {},
   "source": [
    "A neural network example from Coding the Deep Learning Revolution V2 from Adventures in Machine Leanring pg 14 -21"
   ]
  },
  {
   "cell_type": "code",
   "execution_count": 33,
   "metadata": {},
   "outputs": [],
   "source": [
    "import tensorflow as tf\n",
    "import numpy as np"
   ]
  },
  {
   "cell_type": "code",
   "execution_count": 34,
   "metadata": {},
   "outputs": [],
   "source": [
    "from tensorflow.keras.datasets import mnist\n",
    "(x_train, y_train), (x_test, y_test) = mnist.load_data()"
   ]
  },
  {
   "cell_type": "markdown",
   "metadata": {},
   "source": [
    "One final thing that needs to be considered is how to extract the training data in batches of\n",
    "samples. The function below can handle this:"
   ]
  },
  {
   "cell_type": "code",
   "execution_count": 35,
   "metadata": {},
   "outputs": [],
   "source": [
    "def get_batch(x_data, y_data, batch_size):\n",
    "    idxs = np.random.randint(0, len(y_data), batch_size)\n",
    "    return x_data[idxs,:,:], y_data[idxs]"
   ]
  },
  {
   "cell_type": "code",
   "execution_count": 36,
   "metadata": {},
   "outputs": [],
   "source": [
    "# Python optimisation variables\n",
    "epochs = 10\n",
    "batch_size = 100\n",
    "\n",
    "# Normalize the input images by dividing by 255 (scales the data so its between 0 and 1).\n",
    "# Note: 255 is the max of the x values (my observation))\n",
    "x_train = x_train / 255\n",
    "x_test = x_test / 255\n",
    "\n",
    "# convert x_test to tensor to pass through model (train data will be converted to tensors on the fly)\n",
    "x_test = tf.Variable(x_test)"
   ]
  },
  {
   "cell_type": "code",
   "execution_count": 37,
   "metadata": {},
   "outputs": [],
   "source": [
    "# The next step is to setup the weight and bias variables for the three-layer neural network.\n",
    "# There are always L - 1 number of weights/bias tensors, where L is the number of layers.\n",
    "# These variables are defined in the code below:"
   ]
  },
  {
   "cell_type": "code",
   "execution_count": 38,
   "metadata": {},
   "outputs": [],
   "source": [
    "# now declare the weights connecting the input to the hidden layer\n",
    "W1 = tf.Variable(tf.random.normal([784,300], stddev=0.03), name='W1')\n",
    "b1 = tf.Variable(tf.random.normal([300]), name='b1')\n",
    "# and the weights connecting the hidden layer to the output layer\n",
    "W2 = tf.Variable(tf.random.normal([300,10], stddev=0.03), name='W2')\n",
    "b2 = tf.Variable(tf.random.normal([10]), name='b2')\n"
   ]
  },
  {
   "cell_type": "code",
   "execution_count": 39,
   "metadata": {},
   "outputs": [],
   "source": [
    "# The standard devatiion is for the normal distribution of random numbers drawn\n",
    "# The 300 in W1 is the number of nodes in the hidden layer\n",
    "# The [300,10] tensor in W2 \n",
    "# The W2 variable is a [300, 10] tensor, connecting the 300-node hidden layer to the 10-node output layer."
   ]
  },
  {
   "cell_type": "code",
   "execution_count": 40,
   "metadata": {},
   "outputs": [],
   "source": [
    "# The next step in the code is to create the computations that occur within the nodes of the network.\n",
    "# If the reader recalls, the computations within the nodes of a neural network are of the following form:\n",
    "# z = Wx + b\n",
    "# h = f(z)\n",
    "# Where W is the weights matrix, x is the layer input vector, b is the bias and f is the activation\n",
    "# function of the node. These calculations comprise the feed-forward pass of the input data\n",
    "# through the neural network. To execute these calculations, a dedicated feed forward function\n",
    "# is created:"
   ]
  },
  {
   "cell_type": "code",
   "execution_count": 41,
   "metadata": {},
   "outputs": [],
   "source": [
    "def nn_model(x_input, W1, b1, W2, b2):\n",
    "    # flatten the input image from 28 x 28 to 784\n",
    "    x_input = tf.reshape(x_input, (x_input.shape[0], -1))\n",
    "    x = tf.add(tf.matmul(tf.cast(x_input,tf.float32), W1), b1)\n",
    "    x = tf.nn.relu(x)\n",
    "    logits = tf.add(tf.matmul(x,W2), b2)\n",
    "    return logits\n",
    "# Note that no activation function has been applied to this output layer of nodes (yet). \n",
    "# In machine/deep learning, the term “logits” refers to the un-activated output of a layer of nodes."
   ]
  },
  {
   "cell_type": "code",
   "execution_count": 42,
   "metadata": {},
   "outputs": [],
   "source": [
    "def loss_fn(logits, labels):\n",
    "    cross_entropy = tf.reduce_mean(tf.nn.softmax_cross_entropy_with_logits(labels=labels, logits=logits))\n",
    "    return cross_entropy"
   ]
  },
  {
   "cell_type": "code",
   "execution_count": 43,
   "metadata": {},
   "outputs": [],
   "source": [
    "# setup the optimizer\n",
    "optimizer = tf.keras.optimizers.Adam()\n",
    "# The Adam object can take a learning rate as input, but for the present purposes, the default value is used."
   ]
  },
  {
   "cell_type": "code",
   "execution_count": 45,
   "metadata": {},
   "outputs": [
    {
     "name": "stdout",
     "output_type": "stream",
     "text": [
      "Epoch: 1, loss=0.363, test set accuracy=94.460%\n",
      "Epoch: 2, loss=0.147, test set accuracy=96.210%\n",
      "Epoch: 3, loss=0.102, test set accuracy=96.950%\n",
      "Epoch: 4, loss=0.076, test set accuracy=97.270%\n",
      "Epoch: 5, loss=0.058, test set accuracy=97.580%\n",
      "Epoch: 6, loss=0.047, test set accuracy=97.580%\n",
      "Epoch: 7, loss=0.038, test set accuracy=97.760%\n",
      "Epoch: 8, loss=0.032, test set accuracy=97.810%\n",
      "Epoch: 9, loss=0.024, test set accuracy=97.950%\n",
      "Epoch: 10, loss=0.020, test set accuracy=97.960%\n",
      "\n",
      " Training Complete!\n"
     ]
    }
   ],
   "source": [
    "# The Training Loop\n",
    "total_batch = int(len(y_train)/batch_size)\n",
    "\n",
    "for epoch in range(epochs):\n",
    "    avg_loss = 0\n",
    "    for i in range(total_batch):\n",
    "        batch_x, batch_y = get_batch(x_train, y_train, batch_size=batch_size)\n",
    "        # create tensors\n",
    "        batch_x = tf.Variable(batch_x)\n",
    "        batch_y = tf.Variable(batch_y)\n",
    "        # Create a one hot vector\n",
    "        batch_y = tf.one_hot(batch_y,10)\n",
    "        with tf.GradientTape() as tape:\n",
    "            logits = nn_model(batch_x, W1, b1, W2, b2)\n",
    "            loss = loss_fn(logits, batch_y)\n",
    "        gradients = tape.gradient(loss, [W1, b1, W2, b2])\n",
    "        optimizer.apply_gradients(zip(gradients, [W1, b1,W2,b2]))\n",
    "        avg_loss += loss / total_batch\n",
    "    test_logits = nn_model(x_test, W1, b1, W2, b2)\n",
    "    max_idxs = tf.argmax(test_logits, axis=1)\n",
    "    test_acc = np.sum(max_idxs.numpy() == y_test)/len(y_test)\n",
    "    print(f\"Epoch: {epoch + 1}, loss={avg_loss:.3f}, test set accuracy={test_acc*100:.3f}%\")\n",
    "\n",
    "print(\"\\n Training Complete!\")\n",
    "    "
   ]
  },
  {
   "cell_type": "code",
   "execution_count": null,
   "metadata": {},
   "outputs": [],
   "source": []
  }
 ],
 "metadata": {
  "kernelspec": {
   "display_name": "Python 3",
   "language": "python",
   "name": "python3"
  },
  "language_info": {
   "codemirror_mode": {
    "name": "ipython",
    "version": 3
   },
   "file_extension": ".py",
   "mimetype": "text/x-python",
   "name": "python",
   "nbconvert_exporter": "python",
   "pygments_lexer": "ipython3",
   "version": "3.6.9"
  }
 },
 "nbformat": 4,
 "nbformat_minor": 4
}
